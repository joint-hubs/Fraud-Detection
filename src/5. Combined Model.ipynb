{
 "cells": [
  {
   "cell_type": "code",
   "execution_count": 1,
   "metadata": {},
   "outputs": [],
   "source": [
    "import pandas as pd\n",
    "import numpy as np\n",
    "from sklearn.model_selection import train_test_split, GridSearchCV\n",
    "from xgboost import XGBClassifier\n",
    "import dalex as dx\n",
    "\n",
    "from funs import (\n",
    "    dataPreparation,\n",
    "    createMetaDictionary,\n",
    "    createDictionary,\n",
    "    evaluateModel,\n",
    "    dictionaryModel,\n",
    ")"
   ]
  },
  {
   "cell_type": "markdown",
   "metadata": {},
   "source": [
    "# Data preparation"
   ]
  },
  {
   "cell_type": "markdown",
   "metadata": {},
   "source": [
    "## Base data"
   ]
  },
  {
   "cell_type": "code",
   "execution_count": 2,
   "metadata": {},
   "outputs": [
    {
     "name": "stderr",
     "output_type": "stream",
     "text": [
      "C:\\Users\\mateu\\Desktop\\new folder\\fraud-pred\\Fraud-Prediction\\src\\funs.py:182: UserWarning: The argument 'infer_datetime_format' is deprecated and will be removed in a future version. A strict version of it is now the default, see https://pandas.pydata.org/pdeps/0004-consistent-to-datetime-parsing.html. You can safely remove this argument.\n",
      "  trxns_data[\"timestamp\"] = pd.to_datetime(\n"
     ]
    }
   ],
   "source": [
    "data = dataPreparation(\n",
    "    all_trxns_path=\"../data/all_trxns.csv\", exchange_rates_path=\"../data/exchange_rates.csv\"\n",
    ")"
   ]
  },
  {
   "cell_type": "markdown",
   "metadata": {},
   "source": [
    "## Train Test split"
   ]
  },
  {
   "cell_type": "code",
   "execution_count": 3,
   "metadata": {},
   "outputs": [],
   "source": [
    "data[\"fraud_flag_trans\"] = data[\"fraud_flag\"].replace({\"N\": 0, \"Y\": 1})\n",
    "X = data\n",
    "y = data[\"fraud_flag_trans\"]\n",
    "data = data.drop(\"fraud_flag_trans\", axis=1)\n",
    "\n",
    "X_train, X_test, y_train, y_test = train_test_split(\n",
    "    X, y, test_size=0.2, random_state=42, stratify=y\n",
    ")"
   ]
  },
  {
   "cell_type": "markdown",
   "metadata": {},
   "source": [
    "## Train dictionaries"
   ]
  },
  {
   "cell_type": "code",
   "execution_count": 5,
   "metadata": {},
   "outputs": [],
   "source": [
    "dictionaries_to_get = [\n",
    "    \"customer_country\",\n",
    "    \"counterparty_country\",\n",
    "    \"type\",\n",
    "    \"ccy\",\n",
    "    \"customer_type\",\n",
    "    \"weekday\",\n",
    "    \"month\",\n",
    "    \"quarter\",\n",
    "    \"hour\",\n",
    "    \"amount_eur_bucket\",\n",
    "]\n",
    "\n",
    "dictionaries = {}\n",
    "for dict_name in dictionaries_to_get:\n",
    "    dictionaries[dict_name] = createDictionary(\n",
    "        X_train, colname=dict_name, count_filter=0\n",
    "    )\n",
    "\n",
    "meta_dicts = []  # Use a list to collect dictionaries\n",
    "for dict_name in dictionaries_to_get:\n",
    "    meta_dict = createMetaDictionary(X_train, colname=dict_name, quantile_threshold=0.9, count_filter=0)\n",
    "    meta_dicts.append(meta_dict)\n",
    "meta_dictionary = pd.concat(meta_dicts, ignore_index=True)"
   ]
  },
  {
   "cell_type": "markdown",
   "metadata": {},
   "source": [
    "## Dictionary Model train data"
   ]
  },
  {
   "cell_type": "code",
   "execution_count": 6,
   "metadata": {},
   "outputs": [],
   "source": [
    "LP_model_train = dictionaryModel(\n",
    "    X_train,\n",
    "    dictionaries,\n",
    "    meta_dictionary,\n",
    "    fraud_probability_threshold=0.18,\n",
    "    sd_flags_threshold=1,\n",
    "    quantile_flags_threshold=1,\n",
    ")\n",
    "LP_model_train = LP_model_train.drop(\n",
    "    columns=[\"fraud_flag_transformed\", \"fraud_flag\", \"predicted_fraud\"], axis=1\n",
    ")"
   ]
  },
  {
   "cell_type": "markdown",
   "metadata": {},
   "source": [
    "## Dictionary Model test data"
   ]
  },
  {
   "cell_type": "code",
   "execution_count": 7,
   "metadata": {},
   "outputs": [],
   "source": [
    "LP_model_test = dictionaryModel(\n",
    "    X_test,\n",
    "    dictionaries,\n",
    "    meta_dictionary,\n",
    "    fraud_probability_threshold=0.18,\n",
    "    sd_flags_threshold=1,\n",
    "    quantile_flags_threshold=1,\n",
    ")\n",
    "LP_model_test = LP_model_test.drop(\n",
    "    columns=[\"fraud_flag_transformed\", \"fraud_flag\", \"predicted_fraud\"], axis=1\n",
    ")"
   ]
  },
  {
   "cell_type": "markdown",
   "metadata": {},
   "source": [
    "## One-hot encoding"
   ]
  },
  {
   "cell_type": "code",
   "execution_count": 8,
   "metadata": {},
   "outputs": [],
   "source": [
    "model_train_data = pd.get_dummies(LP_model_train, columns=dictionaries_to_get)\n",
    "model_test_data = pd.get_dummies(LP_model_test, columns=dictionaries_to_get)"
   ]
  },
  {
   "cell_type": "markdown",
   "metadata": {},
   "source": [
    "## Additional cleaning"
   ]
  },
  {
   "cell_type": "code",
   "execution_count": 9,
   "metadata": {},
   "outputs": [],
   "source": [
    "model_train_data.columns = [\n",
    "    col.replace(\"[\", \"\").replace(\"]\", \"\") for col in model_train_data.columns\n",
    "]\n",
    "model_test_data.columns = [\n",
    "    col.replace(\"[\", \"\").replace(\"]\", \"\") for col in model_test_data.columns\n",
    "]\n",
    "\n",
    "model_train_data.drop([\"customer\", \"timestamp\", \"counterparty\"], axis=1, inplace=True)\n",
    "model_test_data.drop([\"customer\", \"timestamp\", \"counterparty\"], axis=1, inplace=True)"
   ]
  },
  {
   "cell_type": "markdown",
   "metadata": {},
   "source": [
    "# XGBoost model"
   ]
  },
  {
   "cell_type": "code",
   "execution_count": 15,
   "metadata": {},
   "outputs": [
    {
     "name": "stdout",
     "output_type": "stream",
     "text": [
      "      expected_fraud_probability  sd_flags  quantile_flags  quantile_1_flags  \\\n",
      "0                       0.117376       0.0             1.0               7.0   \n",
      "1                       0.150738       0.0             0.0               8.0   \n",
      "2                       0.100358       0.0             0.0               7.0   \n",
      "3                       0.327700       4.0             4.0              10.0   \n",
      "4                       0.155509       1.0             1.0               7.0   \n",
      "...                          ...       ...             ...               ...   \n",
      "4236                    0.176635       2.0             3.0               7.0   \n",
      "4237                    0.273360       3.0             3.0              10.0   \n",
      "4238                    0.226964       2.0             3.0              10.0   \n",
      "4239                    0.197020       1.0             2.0               9.0   \n",
      "4240                    0.155839       1.0             2.0               8.0   \n",
      "\n",
      "      quantile_25_flags  quantile_75_flags  quantile_9_flags  \\\n",
      "0                   6.0                1.0               1.0   \n",
      "1                   8.0                1.0               0.0   \n",
      "2                   5.0                0.0               0.0   \n",
      "3                  10.0                8.0               4.0   \n",
      "4                   6.0                1.0               1.0   \n",
      "...                 ...                ...               ...   \n",
      "4236                7.0                4.0               3.0   \n",
      "4237                9.0                3.0               3.0   \n",
      "4238                9.0                3.0               3.0   \n",
      "4239                8.0                2.0               2.0   \n",
      "4240                7.0                2.0               2.0   \n",
      "\n",
      "      customer_country_SG  customer_country_UK  customer_country_US  ...  \\\n",
      "0                   False                 True                False  ...   \n",
      "1                   False                 True                False  ...   \n",
      "2                   False                 True                False  ...   \n",
      "3                   False                 True                False  ...   \n",
      "4                   False                 True                False  ...   \n",
      "...                   ...                  ...                  ...  ...   \n",
      "4236                 True                False                False  ...   \n",
      "4237                False                 True                False  ...   \n",
      "4238                False                 True                False  ...   \n",
      "4239                False                False                 True  ...   \n",
      "4240                False                 True                False  ...   \n",
      "\n",
      "      hour_19  hour_20  hour_21  hour_22  hour_23  \\\n",
      "0       False    False    False    False    False   \n",
      "1       False    False    False     True    False   \n",
      "2       False    False    False    False    False   \n",
      "3       False     True    False    False    False   \n",
      "4       False    False    False    False    False   \n",
      "...       ...      ...      ...      ...      ...   \n",
      "4236    False    False    False     True    False   \n",
      "4237    False    False    False    False    False   \n",
      "4238    False    False    False    False    False   \n",
      "4239    False    False    False    False    False   \n",
      "4240    False    False    False     True    False   \n",
      "\n",
      "      amount_eur_bucket_(99.109, 22837.588  \\\n",
      "0                                     True   \n",
      "1                                    False   \n",
      "2                                    False   \n",
      "3                                     True   \n",
      "4                                    False   \n",
      "...                                    ...   \n",
      "4236                                  True   \n",
      "4237                                 False   \n",
      "4238                                  True   \n",
      "4239                                 False   \n",
      "4240                                 False   \n",
      "\n",
      "      amount_eur_bucket_(22837.588, 43377.466  \\\n",
      "0                                       False   \n",
      "1                                       False   \n",
      "2                                        True   \n",
      "3                                       False   \n",
      "4                                       False   \n",
      "...                                       ...   \n",
      "4236                                    False   \n",
      "4237                                    False   \n",
      "4238                                    False   \n",
      "4239                                    False   \n",
      "4240                                    False   \n",
      "\n",
      "      amount_eur_bucket_(43377.466, 62376.65  \\\n",
      "0                                      False   \n",
      "1                                      False   \n",
      "2                                      False   \n",
      "3                                      False   \n",
      "4                                       True   \n",
      "...                                      ...   \n",
      "4236                                   False   \n",
      "4237                                   False   \n",
      "4238                                   False   \n",
      "4239                                   False   \n",
      "4240                                   False   \n",
      "\n",
      "      amount_eur_bucket_(62376.65, 195847.12  \\\n",
      "0                                      False   \n",
      "1                                      False   \n",
      "2                                      False   \n",
      "3                                      False   \n",
      "4                                      False   \n",
      "...                                      ...   \n",
      "4236                                   False   \n",
      "4237                                   False   \n",
      "4238                                   False   \n",
      "4239                                    True   \n",
      "4240                                   False   \n",
      "\n",
      "      amount_eur_bucket_(195847.12, 12772515.05  \n",
      "0                                         False  \n",
      "1                                          True  \n",
      "2                                         False  \n",
      "3                                         False  \n",
      "4                                         False  \n",
      "...                                         ...  \n",
      "4236                                      False  \n",
      "4237                                       True  \n",
      "4238                                      False  \n",
      "4239                                      False  \n",
      "4240                                       True  \n",
      "\n",
      "[4241 rows x 94 columns]\n"
     ]
    }
   ],
   "source": [
    "print(model_train_data)"
   ]
  },
  {
   "cell_type": "markdown",
   "metadata": {},
   "source": [
    "## Training"
   ]
  },
  {
   "cell_type": "code",
   "execution_count": 25,
   "metadata": {},
   "outputs": [
    {
     "name": "stdout",
     "output_type": "stream",
     "text": [
      "Best parameters: {'learning_rate': 0.1, 'max_depth': 15, 'n_estimators': 300, 'reg_lambda': 1.5}\n"
     ]
    }
   ],
   "source": [
    "parameters = {\n",
    "    'max_depth': [5, 10, 15],\n",
    "    'learning_rate': [0.01, 0.05, 0.1],\n",
    "    'reg_lambda': [1, 1.5, 3],\n",
    "    'n_estimators': [300, 500, 700]\n",
    "}\n",
    "\n",
    "model_xgb = XGBClassifier(random_state=42)\n",
    "\n",
    "grid_search = GridSearchCV(model_xgb, parameters, cv=3, scoring='accuracy')\n",
    "grid_search.fit(model_train_data, y_train)\n",
    "\n",
    "best_params = grid_search.best_params_\n",
    "print(f\"Best parameters: {best_params}\")"
   ]
  },
  {
   "cell_type": "code",
   "execution_count": 28,
   "metadata": {},
   "outputs": [
    {
     "data": {
      "text/html": [
       "<style>#sk-container-id-6 {color: black;}#sk-container-id-6 pre{padding: 0;}#sk-container-id-6 div.sk-toggleable {background-color: white;}#sk-container-id-6 label.sk-toggleable__label {cursor: pointer;display: block;width: 100%;margin-bottom: 0;padding: 0.3em;box-sizing: border-box;text-align: center;}#sk-container-id-6 label.sk-toggleable__label-arrow:before {content: \"▸\";float: left;margin-right: 0.25em;color: #696969;}#sk-container-id-6 label.sk-toggleable__label-arrow:hover:before {color: black;}#sk-container-id-6 div.sk-estimator:hover label.sk-toggleable__label-arrow:before {color: black;}#sk-container-id-6 div.sk-toggleable__content {max-height: 0;max-width: 0;overflow: hidden;text-align: left;background-color: #f0f8ff;}#sk-container-id-6 div.sk-toggleable__content pre {margin: 0.2em;color: black;border-radius: 0.25em;background-color: #f0f8ff;}#sk-container-id-6 input.sk-toggleable__control:checked~div.sk-toggleable__content {max-height: 200px;max-width: 100%;overflow: auto;}#sk-container-id-6 input.sk-toggleable__control:checked~label.sk-toggleable__label-arrow:before {content: \"▾\";}#sk-container-id-6 div.sk-estimator input.sk-toggleable__control:checked~label.sk-toggleable__label {background-color: #d4ebff;}#sk-container-id-6 div.sk-label input.sk-toggleable__control:checked~label.sk-toggleable__label {background-color: #d4ebff;}#sk-container-id-6 input.sk-hidden--visually {border: 0;clip: rect(1px 1px 1px 1px);clip: rect(1px, 1px, 1px, 1px);height: 1px;margin: -1px;overflow: hidden;padding: 0;position: absolute;width: 1px;}#sk-container-id-6 div.sk-estimator {font-family: monospace;background-color: #f0f8ff;border: 1px dotted black;border-radius: 0.25em;box-sizing: border-box;margin-bottom: 0.5em;}#sk-container-id-6 div.sk-estimator:hover {background-color: #d4ebff;}#sk-container-id-6 div.sk-parallel-item::after {content: \"\";width: 100%;border-bottom: 1px solid gray;flex-grow: 1;}#sk-container-id-6 div.sk-label:hover label.sk-toggleable__label {background-color: #d4ebff;}#sk-container-id-6 div.sk-serial::before {content: \"\";position: absolute;border-left: 1px solid gray;box-sizing: border-box;top: 0;bottom: 0;left: 50%;z-index: 0;}#sk-container-id-6 div.sk-serial {display: flex;flex-direction: column;align-items: center;background-color: white;padding-right: 0.2em;padding-left: 0.2em;position: relative;}#sk-container-id-6 div.sk-item {position: relative;z-index: 1;}#sk-container-id-6 div.sk-parallel {display: flex;align-items: stretch;justify-content: center;background-color: white;position: relative;}#sk-container-id-6 div.sk-item::before, #sk-container-id-6 div.sk-parallel-item::before {content: \"\";position: absolute;border-left: 1px solid gray;box-sizing: border-box;top: 0;bottom: 0;left: 50%;z-index: -1;}#sk-container-id-6 div.sk-parallel-item {display: flex;flex-direction: column;z-index: 1;position: relative;background-color: white;}#sk-container-id-6 div.sk-parallel-item:first-child::after {align-self: flex-end;width: 50%;}#sk-container-id-6 div.sk-parallel-item:last-child::after {align-self: flex-start;width: 50%;}#sk-container-id-6 div.sk-parallel-item:only-child::after {width: 0;}#sk-container-id-6 div.sk-dashed-wrapped {border: 1px dashed gray;margin: 0 0.4em 0.5em 0.4em;box-sizing: border-box;padding-bottom: 0.4em;background-color: white;}#sk-container-id-6 div.sk-label label {font-family: monospace;font-weight: bold;display: inline-block;line-height: 1.2em;}#sk-container-id-6 div.sk-label-container {text-align: center;}#sk-container-id-6 div.sk-container {/* jupyter's `normalize.less` sets `[hidden] { display: none; }` but bootstrap.min.css set `[hidden] { display: none !important; }` so we also need the `!important` here to be able to override the default hidden behavior on the sphinx rendered scikit-learn.org. See: https://github.com/scikit-learn/scikit-learn/issues/21755 */display: inline-block !important;position: relative;}#sk-container-id-6 div.sk-text-repr-fallback {display: none;}</style><div id=\"sk-container-id-6\" class=\"sk-top-container\"><div class=\"sk-text-repr-fallback\"><pre>XGBClassifier(base_score=None, booster=None, callbacks=None,\n",
       "              colsample_bylevel=None, colsample_bynode=None,\n",
       "              colsample_bytree=None, device=None, early_stopping_rounds=None,\n",
       "              enable_categorical=False, eval_metric=None, feature_types=None,\n",
       "              gamma=None, grow_policy=None, importance_type=None,\n",
       "              interaction_constraints=None, learning_rate=0.1, max_bin=None,\n",
       "              max_cat_threshold=None, max_cat_to_onehot=None,\n",
       "              max_delta_step=None, max_depth=5, max_leaves=None,\n",
       "              min_child_weight=None, missing=nan, monotone_constraints=None,\n",
       "              multi_strategy=None, n_estimators=300, n_jobs=None,\n",
       "              num_parallel_tree=None, random_state=42, ...)</pre><b>In a Jupyter environment, please rerun this cell to show the HTML representation or trust the notebook. <br />On GitHub, the HTML representation is unable to render, please try loading this page with nbviewer.org.</b></div><div class=\"sk-container\" hidden><div class=\"sk-item\"><div class=\"sk-estimator sk-toggleable\"><input class=\"sk-toggleable__control sk-hidden--visually\" id=\"sk-estimator-id-6\" type=\"checkbox\" checked><label for=\"sk-estimator-id-6\" class=\"sk-toggleable__label sk-toggleable__label-arrow\">XGBClassifier</label><div class=\"sk-toggleable__content\"><pre>XGBClassifier(base_score=None, booster=None, callbacks=None,\n",
       "              colsample_bylevel=None, colsample_bynode=None,\n",
       "              colsample_bytree=None, device=None, early_stopping_rounds=None,\n",
       "              enable_categorical=False, eval_metric=None, feature_types=None,\n",
       "              gamma=None, grow_policy=None, importance_type=None,\n",
       "              interaction_constraints=None, learning_rate=0.1, max_bin=None,\n",
       "              max_cat_threshold=None, max_cat_to_onehot=None,\n",
       "              max_delta_step=None, max_depth=5, max_leaves=None,\n",
       "              min_child_weight=None, missing=nan, monotone_constraints=None,\n",
       "              multi_strategy=None, n_estimators=300, n_jobs=None,\n",
       "              num_parallel_tree=None, random_state=42, ...)</pre></div></div></div></div></div>"
      ],
      "text/plain": [
       "XGBClassifier(base_score=None, booster=None, callbacks=None,\n",
       "              colsample_bylevel=None, colsample_bynode=None,\n",
       "              colsample_bytree=None, device=None, early_stopping_rounds=None,\n",
       "              enable_categorical=False, eval_metric=None, feature_types=None,\n",
       "              gamma=None, grow_policy=None, importance_type=None,\n",
       "              interaction_constraints=None, learning_rate=0.1, max_bin=None,\n",
       "              max_cat_threshold=None, max_cat_to_onehot=None,\n",
       "              max_delta_step=None, max_depth=5, max_leaves=None,\n",
       "              min_child_weight=None, missing=nan, monotone_constraints=None,\n",
       "              multi_strategy=None, n_estimators=300, n_jobs=None,\n",
       "              num_parallel_tree=None, random_state=42, ...)"
      ]
     },
     "execution_count": 28,
     "metadata": {},
     "output_type": "execute_result"
    }
   ],
   "source": [
    "model_xgb = XGBClassifier(learning_rate=0.1, \n",
    "                          max_depth=5, \n",
    "                          n_estimators= 300,\n",
    "                          reg_lambda=0.5, \n",
    "                          random_state=42)\n",
    "\n",
    "model_xgb.fit(model_train_data, y_train)"
   ]
  },
  {
   "cell_type": "markdown",
   "metadata": {},
   "source": [
    "## Testing"
   ]
  },
  {
   "cell_type": "code",
   "execution_count": 29,
   "metadata": {},
   "outputs": [
    {
     "data": {
      "image/png": "[encoded data removed]",
      "text/plain": [
       "<Figure size 600x400 with 2 Axes>"
      ]
     },
     "metadata": {},
     "output_type": "display_data"
    },
    {
     "name": "stdout",
     "output_type": "stream",
     "text": [
      "\n",
      "Accuracy: 98.96% \n",
      "\n",
      "              precision    recall  f1-score   support\n",
      "\n",
      "           0       0.99      1.00      0.99      1043\n",
      "           1       1.00      0.39      0.56        18\n",
      "\n",
      "    accuracy                           0.99      1061\n",
      "   macro avg       0.99      0.69      0.78      1061\n",
      "weighted avg       0.99      0.99      0.99      1061\n",
      "\n"
     ]
    }
   ],
   "source": [
    "y_pred = model_xgb.predict(model_test_data)\n",
    "evaluateModel(y_test, y_pred)"
   ]
  },
  {
   "cell_type": "markdown",
   "metadata": {},
   "source": [
    "## Explaining"
   ]
  },
  {
   "cell_type": "code",
   "execution_count": 30,
   "metadata": {},
   "outputs": [
    {
     "name": "stdout",
     "output_type": "stream",
     "text": [
      "Preparation of a new explainer is initiated\n",
      "\n",
      "  -> data              : 4241 rows 94 cols\n",
      "  -> target variable   : Parameter 'y' was a pandas.Series. Converted to a numpy.ndarray.\n",
      "  -> target variable   : 4241 values\n",
      "  -> model_class       : xgboost.sklearn.XGBClassifier (default)\n",
      "  -> label             : Not specified, model's class short name will be used. (default)\n",
      "  -> predict function  : <function yhat_proba_default at 0x00000177A29DE5F0> will be used (default)\n",
      "  -> predict function  : Accepts pandas.DataFrame and numpy.ndarray.\n",
      "  -> predicted values  : min = 1.24e-06, mean = 0.0172, max = 0.996\n",
      "  -> model type        : classification will be used (default)\n",
      "  -> residual function : difference between y and yhat (default)\n",
      "  -> residuals         : min = -0.196, mean = -1.24e-05, max = 0.391\n",
      "  -> model_info        : package xgboost\n",
      "\n",
      "A new explainer has been created!\n"
     ]
    }
   ],
   "source": [
    "explainer = dx.Explainer(model_xgb, model_train_data, y_train)"
   ]
  },
  {
   "cell_type": "code",
   "execution_count": 32,
   "metadata": {},
   "outputs": [
    {
     "data": {
      "application/vnd.plotly.v1+json": {
       "config": {
        "displaylogo": false,
        "modeBarButtonsToRemove": [
         "sendDataToCloud",
         "lasso2d",
         "autoScale2d",
         "select2d",
         "zoom2d",
         "pan2d",
         "zoomIn2d",
         "zoomOut2d",
         "resetScale2d",
         "toggleSpikelines",
         "hoverCompareCartesian",
         "hoverClosestCartesian"
        ],
        "plotlyServerURL": "https://plot.ly",
        "staticPlot": false,
        "toImageButtonOptions": {
         "height": null,
         "width": null
        }
       },
       "data": [
        {
         "base": 1.1102230246251566e-17,
         "hoverinfo": "text",
         "hoverlabel": {
          "bgcolor": "rgba(0,0,0,0.8)"
         },
         "hovertext": [
          "Model: XGBClassifier loss after<br>variable: expected_fraud_probability is permuted: 0.064<br>Drop-out loss change: +0.064",
          "Model: XGBClassifier loss after<br>variable: quantile_1_flags is permuted: 0.001<br>Drop-out loss change: +0.001",
          "Model: XGBClassifier loss after<br>variable: quantile_25_flags is permuted: 0.0<br>Drop-out loss change: +0.0",
          "Model: XGBClassifier loss after<br>variable: ccy_GBP is permuted: 0.0<br>Drop-out loss change: +0.0",
          "Model: XGBClassifier loss after<br>variable: customer_country_SG is permuted: 0.0<br>Drop-out loss change: +0.0",
          "Model: XGBClassifier loss after<br>variable: amount_eur_bucket_(195847.12, 12772515.05 is permuted: 0.0<br>Drop-out loss change: +0.0",
          "Model: XGBClassifier loss after<br>variable: ccy_JPY is permuted: 0.0<br>Drop-out loss change: +0.0",
          "Model: XGBClassifier loss after<br>variable: amount_eur_bucket_(62376.65, 195847.12 is permuted: 0.0<br>Drop-out loss change: +0.0",
          "Model: XGBClassifier loss after<br>variable: counterparty_country_SG is permuted: 0.0<br>Drop-out loss change: +0.0",
          "Model: XGBClassifier loss after<br>variable: counterparty_country_CN is permuted: 0.0<br>Drop-out loss change: +0.0"
         ],
         "marker": {
          "color": "#46bac2"
         },
         "orientation": "h",
         "showlegend": false,
         "text": [
          "+0.064",
          "+0.001",
          "+0.0",
          "+0.0",
          "+0.0",
          "+0.0",
          "+0.0",
          "+0.0",
          "+0.0",
          "+0.0"
         ],
         "textposition": "outside",
         "type": "bar",
         "x": [
          0.06393224890151407,
          0.0007554246115390351,
          0.00025078592523996023,
          0.0001514423526180364,
          0.00012112487677979899,
          0.0001156302590964109,
          4.1151317349152897e-05,
          3.240541874568459e-05,
          2.0129333172136388e-05,
          1.1968164681941394e-05
         ],
         "xaxis": "x",
         "y": [
          "expected_fraud_probability",
          "quantile_1_flags",
          "quantile_25_flags",
          "ccy_GBP",
          "customer_country_SG",
          "amount_eur_bucket_(195847.12, 12772515.05",
          "ccy_JPY",
          "amount_eur_bucket_(62376.65, 195847.12",
          "counterparty_country_SG",
          "counterparty_country_CN"
         ],
         "yaxis": "y"
        }
       ],
       "layout": {
        "annotations": [
         {
          "font": {
           "size": 16
          },
          "showarrow": false,
          "text": "XGBClassifier",
          "x": 0.5,
          "xanchor": "center",
          "xref": "paper",
          "y": 1,
          "yanchor": "bottom",
          "yref": "paper"
         },
         {
          "font": {
           "size": 16
          },
          "showarrow": false,
          "text": "drop-out loss",
          "x": 0.5,
          "xanchor": "center",
          "xref": "paper",
          "y": 0,
          "yanchor": "top",
          "yref": "paper",
          "yshift": -30
         }
        ],
        "font": {
         "color": "#371ea3"
        },
        "height": 383,
        "margin": {
         "b": 71,
         "r": 30,
         "t": 78
        },
        "shapes": [
         {
          "line": {
           "color": "#371ea3",
           "dash": "dot",
           "width": 1.5
          },
          "type": "line",
          "x0": 1.1102230246251566e-17,
          "x1": 1.1102230246251566e-17,
          "xref": "x",
          "y0": -1,
          "y1": 10,
          "yref": "y"
         }
        ],
        "template": {
         "data": {
          "scatter": [
           {
            "type": "scatter"
           }
          ]
         }
        },
        "title": {
         "text": "Variable Importance",
         "x": 0.15
        },
        "xaxis": {
         "anchor": "y",
         "automargin": true,
         "domain": [
          0,
          1
         ],
         "fixedrange": true,
         "gridwidth": 2,
         "range": [
          -0.009589837335227112,
          0.0735220862367412
         ],
         "tickcolor": "white",
         "ticklen": 3,
         "ticks": "outside",
         "type": "linear",
         "zeroline": false
        },
        "yaxis": {
         "anchor": "x",
         "automargin": true,
         "autorange": "reversed",
         "domain": [
          0,
          1
         ],
         "fixedrange": true,
         "gridwidth": 2,
         "tickcolor": "white",
         "ticklen": 10,
         "ticks": "outside",
         "type": "category"
        }
       }
      },
      "text/html": [
       "<div>                            <div id=\"22c85803-4d59-4c02-8651-c2445ad32cb3\" class=\"plotly-graph-div\" style=\"height:383.0px; width:100%;\"></div>            <script type=\"text/javascript\">                require([\"plotly\"], function(Plotly) {                    window.PLOTLYENV=window.PLOTLYENV || {};                                    if (document.getElementById(\"22c85803-4d59-4c02-8651-c2445ad32cb3\")) {                    Plotly.newPlot(                        \"22c85803-4d59-4c02-8651-c2445ad32cb3\",                        [{\"base\":1.1102230246251566e-17,\"hoverinfo\":\"text\",\"hoverlabel\":{\"bgcolor\":\"rgba(0,0,0,0.8)\"},\"hovertext\":[\"Model: XGBClassifier loss after\\u003cbr\\u003evariable: expected_fraud_probability is permuted: 0.064\\u003cbr\\u003eDrop-out loss change: +0.064\",\"Model: XGBClassifier loss after\\u003cbr\\u003evariable: quantile_1_flags is permuted: 0.001\\u003cbr\\u003eDrop-out loss change: +0.001\",\"Model: XGBClassifier loss after\\u003cbr\\u003evariable: quantile_25_flags is permuted: 0.0\\u003cbr\\u003eDrop-out loss change: +0.0\",\"Model: XGBClassifier loss after\\u003cbr\\u003evariable: ccy_GBP is permuted: 0.0\\u003cbr\\u003eDrop-out loss change: +0.0\",\"Model: XGBClassifier loss after\\u003cbr\\u003evariable: customer_country_SG is permuted: 0.0\\u003cbr\\u003eDrop-out loss change: +0.0\",\"Model: XGBClassifier loss after\\u003cbr\\u003evariable: amount_eur_bucket_(195847.12, 12772515.05 is permuted: 0.0\\u003cbr\\u003eDrop-out loss change: +0.0\",\"Model: XGBClassifier loss after\\u003cbr\\u003evariable: ccy_JPY is permuted: 0.0\\u003cbr\\u003eDrop-out loss change: +0.0\",\"Model: XGBClassifier loss after\\u003cbr\\u003evariable: amount_eur_bucket_(62376.65, 195847.12 is permuted: 0.0\\u003cbr\\u003eDrop-out loss change: +0.0\",\"Model: XGBClassifier loss after\\u003cbr\\u003evariable: counterparty_country_SG is permuted: 0.0\\u003cbr\\u003eDrop-out loss change: +0.0\",\"Model: XGBClassifier loss after\\u003cbr\\u003evariable: counterparty_country_CN is permuted: 0.0\\u003cbr\\u003eDrop-out loss change: +0.0\"],\"marker\":{\"color\":\"#46bac2\"},\"orientation\":\"h\",\"showlegend\":false,\"text\":[\"+0.064\",\"+0.001\",\"+0.0\",\"+0.0\",\"+0.0\",\"+0.0\",\"+0.0\",\"+0.0\",\"+0.0\",\"+0.0\"],\"textposition\":\"outside\",\"x\":[0.06393224890151407,0.0007554246115390351,0.00025078592523996023,0.0001514423526180364,0.00012112487677979899,0.0001156302590964109,4.1151317349152897e-05,3.240541874568459e-05,2.0129333172136388e-05,1.1968164681941394e-05],\"y\":[\"expected_fraud_probability\",\"quantile_1_flags\",\"quantile_25_flags\",\"ccy_GBP\",\"customer_country_SG\",\"amount_eur_bucket_(195847.12, 12772515.05\",\"ccy_JPY\",\"amount_eur_bucket_(62376.65, 195847.12\",\"counterparty_country_SG\",\"counterparty_country_CN\"],\"type\":\"bar\",\"xaxis\":\"x\",\"yaxis\":\"y\"}],                        {\"template\":{\"data\":{\"scatter\":[{\"type\":\"scatter\"}]}},\"xaxis\":{\"anchor\":\"y\",\"domain\":[0.0,1.0],\"type\":\"linear\",\"gridwidth\":2,\"zeroline\":false,\"automargin\":true,\"ticks\":\"outside\",\"tickcolor\":\"white\",\"ticklen\":3,\"fixedrange\":true,\"range\":[-0.009589837335227112,0.0735220862367412]},\"yaxis\":{\"anchor\":\"x\",\"domain\":[0.0,1.0],\"type\":\"category\",\"autorange\":\"reversed\",\"gridwidth\":2,\"automargin\":true,\"ticks\":\"outside\",\"tickcolor\":\"white\",\"ticklen\":10,\"fixedrange\":true},\"annotations\":[{\"font\":{\"size\":16},\"showarrow\":false,\"text\":\"XGBClassifier\",\"x\":0.5,\"xanchor\":\"center\",\"xref\":\"paper\",\"y\":1.0,\"yanchor\":\"bottom\",\"yref\":\"paper\"},{\"font\":{\"size\":16},\"showarrow\":false,\"text\":\"drop-out loss\",\"x\":0.5,\"xanchor\":\"center\",\"xref\":\"paper\",\"y\":0,\"yanchor\":\"top\",\"yref\":\"paper\",\"yshift\":-30}],\"shapes\":[{\"line\":{\"color\":\"#371ea3\",\"dash\":\"dot\",\"width\":1.5},\"type\":\"line\",\"x0\":1.1102230246251566e-17,\"x1\":1.1102230246251566e-17,\"xref\":\"x\",\"y0\":-1,\"y1\":10,\"yref\":\"y\"}],\"title\":{\"text\":\"Variable Importance\",\"x\":0.15},\"font\":{\"color\":\"#371ea3\"},\"margin\":{\"t\":78,\"b\":71,\"r\":30},\"height\":383.0},                        {\"displaylogo\": false, \"staticPlot\": false, \"toImageButtonOptions\": {\"height\": null, \"width\": null}, \"modeBarButtonsToRemove\": [\"sendDataToCloud\", \"lasso2d\", \"autoScale2d\", \"select2d\", \"zoom2d\", \"pan2d\", \"zoomIn2d\", \"zoomOut2d\", \"resetScale2d\", \"toggleSpikelines\", \"hoverCompareCartesian\", \"hoverClosestCartesian\"], \"responsive\": true}                    ).then(function(){\n",
       "                            \n",
       "var gd = document.getElementById('22c85803-4d59-4c02-8651-c2445ad32cb3');\n",
       "var x = new MutationObserver(function (mutations, observer) {{\n",
       "        var display = window.getComputedStyle(gd).display;\n",
       "        if (!display || display === 'none') {{\n",
       "            console.log([gd, 'removed!']);\n",
       "            Plotly.purge(gd);\n",
       "            observer.disconnect();\n",
       "        }}\n",
       "}});\n",
       "\n",
       "// Listen for the removal of the full notebook cells\n",
       "var notebookContainer = gd.closest('#notebook-container');\n",
       "if (notebookContainer) {{\n",
       "    x.observe(notebookContainer, {childList: true});\n",
       "}}\n",
       "\n",
       "// Listen for the clearing of the current output cell\n",
       "var outputEl = gd.closest('.output');\n",
       "if (outputEl) {{\n",
       "    x.observe(outputEl, {childList: true});\n",
       "}}\n",
       "\n",
       "                        })                };                });            </script>        </div>"
      ]
     },
     "metadata": {},
     "output_type": "display_data"
    }
   ],
   "source": [
    "explainer.model_parts().plot()"
   ]
  },
  {
   "cell_type": "code",
   "execution_count": 37,
   "metadata": {},
   "outputs": [
    {
     "data": {
      "text/plain": [
       "expected_fraud_probability                   0.117376\n",
       "sd_flags                                     0.000000\n",
       "quantile_flags                               1.000000\n",
       "quantile_1_flags                             7.000000\n",
       "quantile_25_flags                            6.000000\n",
       "                                               ...   \n",
       "amount_eur_bucket_(99.109, 22837.588         1.000000\n",
       "amount_eur_bucket_(22837.588, 43377.466      0.000000\n",
       "amount_eur_bucket_(43377.466, 62376.65       0.000000\n",
       "amount_eur_bucket_(62376.65, 195847.12       0.000000\n",
       "amount_eur_bucket_(195847.12, 12772515.05    0.000000\n",
       "Name: 0, Length: 94, dtype: float64"
      ]
     },
     "execution_count": 37,
     "metadata": {},
     "output_type": "execute_result"
    }
   ],
   "source": [
    "instance = model_train_data.iloc[0]\n",
    "instance"
   ]
  },
  {
   "cell_type": "code",
   "execution_count": 38,
   "metadata": {},
   "outputs": [],
   "source": [
    "shap_values = explainer.predict_parts(instance)"
   ]
  },
  {
   "cell_type": "code",
   "execution_count": 39,
   "metadata": {},
   "outputs": [
    {
     "data": {
      "application/vnd.plotly.v1+json": {
       "config": {
        "displaylogo": false,
        "modeBarButtonsToRemove": [
         "sendDataToCloud",
         "lasso2d",
         "autoScale2d",
         "select2d",
         "zoom2d",
         "pan2d",
         "zoomIn2d",
         "zoomOut2d",
         "resetScale2d",
         "toggleSpikelines",
         "hoverCompareCartesian",
         "hoverClosestCartesian"
        ],
        "plotlyServerURL": "https://plot.ly",
        "staticPlot": false,
        "toImageButtonOptions": {
         "height": null,
         "width": null
        }
       },
       "data": [
        {
         "base": 0.017171598970890045,
         "connector": {
          "line": {
           "color": "#371ea3",
           "dash": "solid",
           "width": 1
          },
          "mode": "spanning"
         },
         "decreasing": {
          "marker": {
           "color": "#f05a71"
          }
         },
         "hoverinfo": "text+delta",
         "hoverlabel": {
          "bgcolor": "rgba(0,0,0,0.8)"
         },
         "hovertext": [
          "Average response: 0.017<br>Prediction: 0.0",
          "ccy_GBP:customer_country_UK = 1.0:1.0<br>increases average response by",
          "expected_fraud_probability = 0.1174<br>decreases average response by",
          "counterparty_country_FR = 1.0<br>increases average response by",
          "quantile_75_flags = 1.0<br>increases average response by",
          "counterparty_country_CN = 0.0<br>increases average response by",
          "hour_1 = 1.0<br>increases average response by",
          "type_INTEREST = 1.0<br>decreases average response by",
          "ccy_JPY = 0.0<br>increases average response by",
          "month_June = 1.0<br>decreases average response by",
          "customer_type_R:counterparty_country_UK = 1.0:0.0<br>decreases average response by",
          "+ all other factors<br>decreases average response by",
          "Average response: 0.017<br>Prediction: 0.0"
         ],
         "increasing": {
          "marker": {
           "color": "#8bdcbe"
          }
         },
         "measure": [
          "relative",
          "relative",
          "relative",
          "relative",
          "relative",
          "relative",
          "relative",
          "relative",
          "relative",
          "relative",
          "relative",
          "relative",
          "total"
         ],
         "orientation": "h",
         "showlegend": false,
         "text": [
          "0.017",
          "+0.03",
          "-0.022",
          "+0.016",
          "+0.007",
          "+0.003",
          "+0.016",
          "-0.012",
          "+0.002",
          "-0.008",
          "-0.031",
          "-0.017",
          "0.0"
         ],
         "textposition": "outside",
         "totals": {
          "marker": {
           "color": "#371ea3"
          }
         },
         "type": "waterfall",
         "x": [
          0,
          0.029999999329447746,
          -0.02199999988079071,
          0.01600000075995922,
          0.007000000216066837,
          0.003000000026077032,
          0.01600000075995922,
          -0.012000000104308128,
          0.0020000000949949026,
          -0.00800000037997961,
          -0.03099999949336052,
          -0.017000000923871994,
          -0.017000000923871994
         ],
         "xaxis": "x",
         "y": [
          "intercept",
          "ccy_GBP:customer_country_UK = 1.0:1.0",
          "expected_fraud_probability = 0.1174",
          "counterparty_country_FR = 1.0",
          "quantile_75_flags = 1.0",
          "counterparty_country_CN = 0.0",
          "hour_1 = 1.0",
          "type_INTEREST = 1.0",
          "ccy_JPY = 0.0",
          "month_June = 1.0",
          "customer_type_R:counterparty_country_UK = 1.0:0.0",
          "+ all other factors",
          "prediction"
         ],
         "yaxis": "y"
        }
       ],
       "layout": {
        "annotations": [
         {
          "font": {
           "size": 16
          },
          "showarrow": false,
          "text": "XGBClassifier",
          "x": 0.5,
          "xanchor": "center",
          "xref": "paper",
          "y": 1,
          "yanchor": "bottom",
          "yref": "paper"
         },
         {
          "font": {
           "size": 16
          },
          "showarrow": false,
          "text": "contribution",
          "x": 0.5,
          "xanchor": "center",
          "xref": "paper",
          "y": 0,
          "yanchor": "top",
          "yref": "paper",
          "yshift": -30
         }
        ],
        "font": {
         "color": "#371ea3"
        },
        "height": 413,
        "margin": {
         "b": 71,
         "r": 30,
         "t": 78
        },
        "shapes": [
         {
          "line": {
           "color": "#371ea3",
           "dash": "dot",
           "width": 1.5
          },
          "type": "line",
          "x0": 0.017171598970890045,
          "x1": 0.017171598970890045,
          "xref": "x",
          "y0": -1,
          "y1": 13,
          "yref": "y"
         }
        ],
        "template": {
         "data": {
          "scatter": [
           {
            "type": "scatter"
           }
          ]
         }
        },
        "title": {
         "text": "Break Down",
         "x": 0.15
        },
        "xaxis": {
         "anchor": "y",
         "automargin": true,
         "domain": [
          0,
          1
         ],
         "fixedrange": true,
         "gridwidth": 2,
         "range": [
          -0.00989999994635582,
          0.07589999958872795
         ],
         "tickcolor": "white",
         "ticklen": 3,
         "ticks": "outside",
         "type": "linear",
         "zeroline": false
        },
        "yaxis": {
         "anchor": "x",
         "automargin": true,
         "autorange": "reversed",
         "domain": [
          0,
          1
         ],
         "fixedrange": true,
         "gridwidth": 2,
         "tickcolor": "white",
         "ticklen": 10,
         "ticks": "outside",
         "type": "category"
        }
       }
      }
     },
     "metadata": {},
     "output_type": "display_data"
    }
   ],
   "source": [
    "shap_values.plot()"
   ]
  }
 ],
 "metadata": {
  "kernelspec": {
   "display_name": "Python 3 (ipykernel)",
   "language": "python",
   "name": "python3"
  },
  "language_info": {
   "codemirror_mode": {
    "name": "ipython",
    "version": 3
   },
   "file_extension": ".py",
   "mimetype": "text/x-python",
   "name": "python",
   "nbconvert_exporter": "python",
   "pygments_lexer": "ipython3",
   "version": "3.10.10"
  },
  "vscode": {
   "interpreter": {
    "hash": "ea691c577c8a5ba935f4d99bbd5c939a093ed1ee2cfc6fd5842a5972ac98f129"
   }
  }
 },
 "nbformat": 4,
 "nbformat_minor": 2
}
