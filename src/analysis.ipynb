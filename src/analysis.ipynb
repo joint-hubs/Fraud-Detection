{
 "cells": [
  {
   "cell_type": "code",
   "execution_count": 2,
   "metadata": {},
   "outputs": [],
   "source": [
    "import pandas as pd\n",
    "import numpy as np\n",
    "import re\n",
    "import seaborn as sns\n",
    "import matplotlib.pyplot as plt\n",
    "from sklearn.feature_selection import SelectKBest, f_classif\n",
    "\n",
    "from funs import createMetaDictionary, createDictionary, plotDictionary, chi2_independence, highlightTable"
   ]
  },
  {
   "cell_type": "code",
   "execution_count": 3,
   "metadata": {},
   "outputs": [],
   "source": [
    "# Data Collection\n",
    "\n",
    "# Raw Data\n",
    "all_trxns = pd.read_csv(\"all_trxns.csv\", dtype={'counterparty': str})\n",
    "\n",
    "# Exchange Rates -> more info in currencies.ipynb\n",
    "currency_rates = pd.read_csv(\"exchange_rates.csv\", header=None, names=[\"ccy\", \"date\", \"rate\"])"
   ]
  },
  {
   "cell_type": "code",
   "execution_count": 4,
   "metadata": {},
   "outputs": [],
   "source": [
    "# Data Cleaning and Preprocessing\n",
    "\n",
    "# Get as many factors as possible\n",
    "\n",
    "# Transform the variables and provide additional features\n",
    "trxns_data = all_trxns.copy()\n",
    "# Convert the timestamp to datetime\n",
    "trxns_data['timestamp'] = pd.to_datetime(trxns_data['timestamp'], infer_datetime_format=True)\n",
    "# Add the date and the exchange rate\n",
    "trxns_data['date'] = trxns_data['timestamp'].dt.date\n",
    "trxns_data = trxns_data.merge(currency_rates, on=['ccy', 'date'], how='left')\n",
    "trxns_data['rate'] = np.where(trxns_data['rate'].isna(), 1, trxns_data['rate'])\n",
    "# Clean and convert the amount to EUR\n",
    "trxns_data['amount'] = trxns_data['amount'].apply(lambda x: float(re.sub('[^0-9.]', '', x)))\n",
    "trxns_data['amount_eur'] = trxns_data['amount'] / trxns_data['rate']\n",
    "# Extract the customer type from the customer id\n",
    "trxns_data['customer_type'] = trxns_data['customer'].str[0]\n",
    "# Extract the weekday, month, quarter and hour from the timestamp\n",
    "trxns_data['weekday'] = trxns_data['date'].apply(lambda x: x.strftime('%A'))\n",
    "trxns_data['month'] = trxns_data['date'].apply(lambda x: x.strftime('%B'))\n",
    "trxns_data['quarter'] = trxns_data['date'].apply(lambda x: 'Q'+str((x.month-1)//3+1))\n",
    "trxns_data['hour'] = trxns_data['timestamp'].dt.hour\n",
    "# Replace missing values in the \"counterparty_country\" column with \"unknown\"\n",
    "trxns_data['counterparty_country'] = np.where(trxns_data['counterparty_country'].isna(), \"unknown\", trxns_data['counterparty_country'])\n",
    "\n",
    "# Calculate the thresholds for the equally sized buckets of the amount in EUR\n",
    "amount_eur_quantile = np.quantile(trxns_data['amount_eur'], q=np.arange(0, 1.2, 0.2))\n",
    "\n",
    "# Add amount_eur buckets\n",
    "trxns_data['amount_eur_bucket'] = pd.cut(trxns_data['amount_eur'], bins=amount_eur_quantile, include_lowest=True)"
   ]
  },
  {
   "cell_type": "code",
   "execution_count": 5,
   "metadata": {},
   "outputs": [
    {
     "name": "stderr",
     "output_type": "stream",
     "text": [
      "C:\\Users\\Mateusz\\AppData\\Local\\Temp\\ipykernel_34684\\263349103.py:7: SettingWithCopyWarning: \n",
      "A value is trying to be set on a copy of a slice from a DataFrame.\n",
      "Try using .loc[row_indexer,col_indexer] = value instead\n",
      "\n",
      "See the caveats in the documentation: https://pandas.pydata.org/pandas-docs/stable/user_guide/indexing.html#returning-a-view-versus-a-copy\n",
      "  plot_data['count'] = 1\n"
     ]
    },
    {
     "data": {
      "image/png": "[encoded data removed]",
      "text/plain": [
       "<Figure size 640x480 with 1 Axes>"
      ]
     },
     "metadata": {},
     "output_type": "display_data"
    }
   ],
   "source": [
    "# Fraud Flag plot\n",
    "\n",
    "# How many frauds are there?\n",
    "\n",
    "# Prepare plot data\n",
    "plot_data = trxns_data[['fraud_flag']]\n",
    "plot_data['count'] = 1\n",
    "summary = plot_data.groupby('fraud_flag').count()\n",
    "summary['perc'] = summary['count'] / summary['count'].sum()\n",
    "\n",
    "# Plot the data\n",
    "fig, ax = plt.subplots()\n",
    "bars = ax.bar(summary.index, summary['count'], color='#968B89')\n",
    "ax.set_title('Fraud Flag count')\n",
    "ax.set_xlabel('')\n",
    "ax.set_ylabel('Count')\n",
    "ax.set_ylim(top=summary['count'].max() * 1.2)\n",
    "\n",
    "# Add the percentage on top of the bars\n",
    "for i, bar in enumerate(bars):\n",
    "    height = bar.get_height()\n",
    "    ax.text(bar.get_x() + bar.get_width() / 2, height * 1.01, f'{summary[\"perc\"][i]:.1%}', ha='center', va='bottom')\n",
    "\n",
    "plt.show()"
   ]
  },
  {
   "cell_type": "code",
   "execution_count": null,
   "metadata": {},
   "outputs": [],
   "source": [
    "# in total there is 1.7% probability of a transaction being a fraud\n",
    "# it would be good to identify the variable that is associated with the fraud flag\n",
    "# or to find a factor within a variable that is associated with the fraud flag"
   ]
  },
  {
   "cell_type": "code",
   "execution_count": 15,
   "metadata": {},
   "outputs": [
    {
     "name": "stdout",
     "output_type": "stream",
     "text": [
      "Chi-square statistic:  34.60357961327357\n",
      "p-value:  1.477323485789682e-07\n",
      "Degrees of freedom:  3\n",
      "Expected frequencies: \n",
      "customer_type            C           K            P            R\n",
      "fraud_flag                                                      \n",
      "N              1020.184459  941.557525  1838.887401  1410.370615\n",
      "Y                17.815541   16.442475    32.112599    24.629385\n"
     ]
    }
   ],
   "source": [
    "# Which variables could be associated with the fraud flag?\n",
    "\n",
    "chi2_independence(trxns_data, 'customer_type', 'fraud_flag', type = 'description')\n",
    "\n",
    "# after going through all the variables, i think it does not make sense to use the variables in the current state as probably the model would not be able to generalize well"
   ]
  },
  {
   "cell_type": "code",
   "execution_count": null,
   "metadata": {},
   "outputs": [],
   "source": [
    "['customer_country', 'counterparty_country', 'type', 'ccy', 'customer_type', 'weekday', 'month', 'quarter', 'hour', 'amount_eur_bucket']"
   ]
  },
  {
   "cell_type": "code",
   "execution_count": 23,
   "metadata": {},
   "outputs": [
    {
     "data": {
      "text/html": [
       "<div>\n",
       "<style scoped>\n",
       "    .dataframe tbody tr th:only-of-type {\n",
       "        vertical-align: middle;\n",
       "    }\n",
       "\n",
       "    .dataframe tbody tr th {\n",
       "        vertical-align: top;\n",
       "    }\n",
       "\n",
       "    .dataframe thead th {\n",
       "        text-align: right;\n",
       "    }\n",
       "</style>\n",
       "<table border=\"1\" class=\"dataframe\">\n",
       "  <thead>\n",
       "    <tr style=\"text-align: right;\">\n",
       "      <th>amount_eur_bucket</th>\n",
       "      <th>(99.109, 22837.588]</th>\n",
       "      <th>(22837.588, 43377.466]</th>\n",
       "      <th>(43377.466, 62376.65]</th>\n",
       "      <th>(62376.65, 195847.12]</th>\n",
       "      <th>(195847.12, 12772515.05]</th>\n",
       "    </tr>\n",
       "    <tr>\n",
       "      <th>fraud_flag</th>\n",
       "      <th></th>\n",
       "      <th></th>\n",
       "      <th></th>\n",
       "      <th></th>\n",
       "      <th></th>\n",
       "    </tr>\n",
       "  </thead>\n",
       "  <tbody>\n",
       "    <tr>\n",
       "      <th>N</th>\n",
       "      <td>1034</td>\n",
       "      <td>1047</td>\n",
       "      <td>1055</td>\n",
       "      <td>1041</td>\n",
       "      <td>1034</td>\n",
       "    </tr>\n",
       "    <tr>\n",
       "      <th>Y</th>\n",
       "      <td>27*</td>\n",
       "      <td>13</td>\n",
       "      <td>5*</td>\n",
       "      <td>19</td>\n",
       "      <td>27*</td>\n",
       "    </tr>\n",
       "  </tbody>\n",
       "</table>\n",
       "</div>"
      ],
      "text/plain": [
       "amount_eur_bucket (99.109, 22837.588] (22837.588, 43377.466]  \\\n",
       "fraud_flag                                                     \n",
       "N                                1034                   1047   \n",
       "Y                                 27*                     13   \n",
       "\n",
       "amount_eur_bucket (43377.466, 62376.65] (62376.65, 195847.12]  \\\n",
       "fraud_flag                                                      \n",
       "N                                  1055                  1041   \n",
       "Y                                    5*                    19   \n",
       "\n",
       "amount_eur_bucket (195847.12, 12772515.05]  \n",
       "fraud_flag                                  \n",
       "N                                     1034  \n",
       "Y                                      27*  "
      ]
     },
     "execution_count": 23,
     "metadata": {},
     "output_type": "execute_result"
    }
   ],
   "source": [
    "# Are w able to identify factor within a variable that is associated with the fraud flag?\n",
    "# values with the * are the ones that have values significantly different than expected\n",
    "\n",
    "highlightTable(trxns_data, 'amount_eur_bucket', 'fraud_flag')\n",
    "\n",
    "# there are a lot of factors within the variables that could be used to identify the fraud flag because the values are significantly different than expected"
   ]
  },
  {
   "cell_type": "code",
   "execution_count": 24,
   "metadata": {},
   "outputs": [
    {
     "data": {
      "image/png": "[encoded data removed]",
      "text/plain": [
       "<Figure size 750x500 with 1 Axes>"
      ]
     },
     "metadata": {},
     "output_type": "display_data"
    }
   ],
   "source": [
    "# How does it look?\n",
    "# black dashed line is the mean value \n",
    "# red dashed lines are the values of mean plus 1.5 and 2 standard deviations\n",
    "# red solid line is the value of quantile (by default 0.9) plus standard deviation\n",
    "\n",
    "plotDictionary(trxns_data, colname = 'amount_eur_bucket', quantile_threshold = .9, count_filter = 5)"
   ]
  },
  {
   "cell_type": "code",
   "execution_count": 19,
   "metadata": {},
   "outputs": [
    {
     "name": "stdout",
     "output_type": "stream",
     "text": [
      "                                    feature      score        pvalue\n",
      "21                             type_PAYMENT  73.624405  1.225702e-17\n",
      "25                                  ccy_CNY  38.885269  4.842681e-10\n",
      "9                   counterparty_country_JP  30.765566  3.052713e-08\n",
      "35                          customer_type_P  30.489511  3.516585e-08\n",
      "73                                  hour_13  19.631395  9.580562e-06\n",
      "40                           weekday_Sunday  17.347717  3.162185e-05\n",
      "53                           month_November  13.523695  2.379037e-04\n",
      "86  amount_eur_bucket_(43377.466, 62376.65]  12.190181  4.843339e-04\n",
      "33                          customer_type_C  11.684473  6.349856e-04\n",
      "51                              month_March  10.310940  1.330337e-03\n",
      "63                                   hour_3   9.560922  1.997962e-03\n",
      "18                            type_INTEREST   9.044535  2.647180e-03\n",
      "16                             type_BILLING   8.011065  4.666738e-03\n",
      "17                            type_DIVIDEND   7.751907  5.384616e-03\n",
      "36                          customer_type_R   7.668514  5.638818e-03\n",
      "4                   counterparty_country_CN   7.614870  5.808778e-03\n"
     ]
    }
   ],
   "source": [
    "# One hot encoding and ANOVA f-test\n",
    "\n",
    "# https://machinelearningmastery.com/feature-selection-with-numerical-input-data/#:~:text=ANOVA%20f%2Dtest%20Feature%20Selection\n",
    "\n",
    "# Select the features\n",
    "feature_names = [\"customer_country\", \"counterparty_country\", \"type\", \"ccy\", \"customer_type\", \"weekday\", \"month\", \"quarter\", \"hour\", \"amount_eur_bucket\"]\n",
    "\n",
    "# Split the data into features (X) and target (y)\n",
    "X = trxns_data[feature_names]\n",
    "y = trxns_data['fraud_flag']\n",
    "\n",
    "# Perform one-hot encoding\n",
    "X_encoded = pd.get_dummies(X, columns=feature_names)\n",
    "\n",
    "# Define the number of top features to select\n",
    "k = 50\n",
    "\n",
    "# Perform univariate feature selection using ANOVA F-value\n",
    "selector = SelectKBest(f_classif, k=k)\n",
    "selector.fit(X_encoded, y)\n",
    "\n",
    "# Get the scores and p-values of each feature\n",
    "scores = selector.scores_\n",
    "pvalues = selector.pvalues_\n",
    "\n",
    "# Create a DataFrame to store the results\n",
    "results_df = pd.DataFrame({\n",
    "    'feature': X_encoded.columns,\n",
    "    'score': scores,\n",
    "    'pvalue': pvalues\n",
    "})\n",
    "\n",
    "# Sort the results by score in descending order\n",
    "results_df = results_df.sort_values(by='score', ascending=False)\n",
    "\n",
    "# Filter out the features with pvalue less more than 0.01\n",
    "results_df = results_df[results_df['pvalue'] <= 0.01]\n",
    "\n",
    "# Print the top k features and their scores\n",
    "print(results_df.head(k))"
   ]
  },
  {
   "cell_type": "code",
   "execution_count": null,
   "metadata": {},
   "outputs": [],
   "source": [
    "# For the purpose of this exercise, i think that the data is good enough to be used for the model"
   ]
  }
 ],
 "metadata": {
  "kernelspec": {
   "display_name": "Python 3",
   "language": "python",
   "name": "python3"
  },
  "language_info": {
   "codemirror_mode": {
    "name": "ipython",
    "version": 3
   },
   "file_extension": ".py",
   "mimetype": "text/x-python",
   "name": "python",
   "nbconvert_exporter": "python",
   "pygments_lexer": "ipython3",
   "version": "3.10.5"
  },
  "orig_nbformat": 4,
  "vscode": {
   "interpreter": {
    "hash": "ea691c577c8a5ba935f4d99bbd5c939a093ed1ee2cfc6fd5842a5972ac98f129"
   }
  }
 },
 "nbformat": 4,
 "nbformat_minor": 2
}
