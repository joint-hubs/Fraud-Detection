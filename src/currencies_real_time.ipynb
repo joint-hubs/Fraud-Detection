{
 "cells": [
  {
   "cell_type": "code",
   "execution_count": 26,
   "metadata": {},
   "outputs": [],
   "source": [
    "import requests\n",
    "import pandas as pd"
   ]
  },
  {
   "cell_type": "code",
   "execution_count": 4,
   "metadata": {},
   "outputs": [],
   "source": [
    "all_trxns = pd.read_csv(\"all_trxns.csv\", dtype={\"counterparty\": str})"
   ]
  },
  {
   "cell_type": "code",
   "execution_count": 18,
   "metadata": {},
   "outputs": [],
   "source": [
    "data_trn = all_trxns\n",
    "data_trn['timestamp'] = pd.to_datetime(data_trn['timestamp'], format=\"%Y-%m-%d %H:%M:%S\")\n",
    "data_trn['date'] = data_trn['timestamp'].dt.date"
   ]
  },
  {
   "cell_type": "code",
   "execution_count": 20,
   "metadata": {},
   "outputs": [],
   "source": [
    "# Set up the base URL and parameters that don't change\n",
    "base_url = \"https://api.apilayer.com/exchangerates_data/\""
   ]
  },
  {
   "cell_type": "code",
   "execution_count": null,
   "metadata": {},
   "outputs": [],
   "source": [
    "# Create an empty list to store the results\n",
    "results = []\n",
    "\n",
    "# Set the API key in the headers\n",
    "headers = {\"apikey\": \"4J138Pal8oU6Uhvm5chOzrQ53Bvn0Swh\"}\n",
    "\n",
    "# Iterate over the unique dates and currencies\n",
    "for date in data_trn[\"date\"].unique():\n",
    "    date_str = str(date)  # Convert the date to a string\n",
    "    ccy_list = list(data_trn.loc[data_trn[\"date\"] == date, \"ccy\"].unique())\n",
    "    symbols = \",\".join(ccy_list)\n",
    "    base = \"EUR\"\n",
    "    url = f\"https://api.apilayer.com/exchangerates_data/{date_str}?symbols={symbols}&base={base}\"\n",
    "    response = requests.get(url, headers=headers)\n",
    "    data = response.json()  # Parse the response into a dictionary\n",
    "    \n",
    "    # Process the response data and add it to the results list\n",
    "    rates = data[\"rates\"]\n",
    "    for currency, rate in rates.items():\n",
    "        row = {\"date\": date, \"ccy\": currency, \"rate\": rate}\n",
    "        results.append(row)\n",
    "\n",
    "# Convert the results list to a DataFrame\n",
    "df_results = pd.DataFrame(results)"
   ]
  },
  {
   "cell_type": "code",
   "execution_count": 24,
   "metadata": {},
   "outputs": [],
   "source": [
    "# Convert the results list to a DataFrame\n",
    "df_results = pd.DataFrame(results)"
   ]
  },
  {
   "cell_type": "code",
   "execution_count": null,
   "metadata": {},
   "outputs": [],
   "source": [
    "df_results"
   ]
  }
 ],
 "metadata": {
  "kernelspec": {
   "display_name": "Python 3",
   "language": "python",
   "name": "python3"
  },
  "language_info": {
   "codemirror_mode": {
    "name": "ipython",
    "version": 3
   },
   "file_extension": ".py",
   "mimetype": "text/x-python",
   "name": "python",
   "nbconvert_exporter": "python",
   "pygments_lexer": "ipython3",
   "version": "3.10.5"
  },
  "orig_nbformat": 4,
  "vscode": {
   "interpreter": {
    "hash": "ea691c577c8a5ba935f4d99bbd5c939a093ed1ee2cfc6fd5842a5972ac98f129"
   }
  }
 },
 "nbformat": 4,
 "nbformat_minor": 2
}
