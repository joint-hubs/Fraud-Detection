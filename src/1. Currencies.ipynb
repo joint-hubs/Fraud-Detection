{
 "cells": [
  {
   "attachments": {},
   "cell_type": "markdown",
   "metadata": {},
   "source": [
    "# Import libraries"
   ]
  },
  {
   "cell_type": "code",
   "execution_count": 1,
   "metadata": {},
   "outputs": [],
   "source": [
    "import requests\n",
    "from bs4 import BeautifulSoup\n",
    "import pandas as pd\n",
    "from datetime import datetime"
   ]
  },
  {
   "attachments": {},
   "cell_type": "markdown",
   "metadata": {},
   "source": [
    "# Set base URL and parameters"
   ]
  },
  {
   "cell_type": "code",
   "execution_count": 2,
   "metadata": {},
   "outputs": [],
   "source": [
    "\n",
    "base_url = \"https://fxtop.com/en/historical-exchange-rates.php\"\n",
    "params = {\n",
    "    \"A\": 1,\n",
    "    \"C1\": \"EUR\",\n",
    "    \"C2\": \"\",\n",
    "    \"TR\": 1,\n",
    "    \"DD1\": \"01\",\n",
    "    \"MM1\": \"01\",\n",
    "    \"YYYY1\": 2021,\n",
    "    \"B\": 1,\n",
    "    \"P\": \"\",\n",
    "    \"I\": 1,\n",
    "    \"DD2\": \"01\",\n",
    "    \"MM2\": \"01\",\n",
    "    \"YYYY2\": 2022,\n",
    "    \"btnOK\": \"Go!\"\n",
    "}"
   ]
  },
  {
   "attachments": {},
   "cell_type": "markdown",
   "metadata": {},
   "source": [
    "# Scrape the data"
   ]
  },
  {
   "cell_type": "code",
   "execution_count": 3,
   "metadata": {},
   "outputs": [],
   "source": [
    "results = []\n",
    "\n",
    "for currency in [\"BRL\", \"CNY\", \"GBP\", \"HKD\", \"INR\", \"JPY\", \"SGD\", \"USD\"]:\n",
    "    params[\"C2\"] = currency\n",
    "    response = requests.get(base_url, params=params)\n",
    "\n",
    "    soup = BeautifulSoup(response.content, \"html.parser\")\n",
    "\n",
    "    table = soup.select_one(\"br+ table\")\n",
    "    rows = table.select(\"tr\")\n",
    "\n",
    "    for row in rows[1:]:\n",
    "        cells = row.select(\"td\")\n",
    "        date_str = cells[0].text.strip()\n",
    "        date = datetime.strptime(date_str, \"%A %d %B %Y\").strftime(\"%Y-%m-%d\")\n",
    "        rate = float(cells[1].text.strip().replace(\",\", \".\"))\n",
    "\n",
    "        results.append({\"Currency\": currency, \"Date\": date, \"Rate\": rate})\n",
    "\n",
    "df = pd.DataFrame(results)"
   ]
  },
  {
   "attachments": {},
   "cell_type": "markdown",
   "metadata": {},
   "source": [
    "# Save exchange rates to the file"
   ]
  },
  {
   "cell_type": "code",
   "execution_count": 4,
   "metadata": {},
   "outputs": [],
   "source": [
    "df.to_csv(\"../exchange_rates.csv\", index=False, header=False)"
   ]
  }
 ],
 "metadata": {
  "kernelspec": {
   "display_name": "Python 3",
   "language": "python",
   "name": "python3"
  },
  "language_info": {
   "codemirror_mode": {
    "name": "ipython",
    "version": 3
   },
   "file_extension": ".py",
   "mimetype": "text/x-python",
   "name": "python",
   "nbconvert_exporter": "python",
   "pygments_lexer": "ipython3",
   "version": "3.10.5"
  },
  "orig_nbformat": 4,
  "vscode": {
   "interpreter": {
    "hash": "ea691c577c8a5ba935f4d99bbd5c939a093ed1ee2cfc6fd5842a5972ac98f129"
   }
  }
 },
 "nbformat": 4,
 "nbformat_minor": 2
}
