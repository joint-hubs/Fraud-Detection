{
 "cells": [
  {
   "cell_type": "code",
   "execution_count": 1,
   "metadata": {},
   "outputs": [],
   "source": [
    "import pandas as pd\n",
    "import numpy as np\n",
    "import re\n",
    "import seaborn as sns\n",
    "import matplotlib.pyplot as plt\n",
    "from sklearn.feature_selection import SelectKBest, f_classif\n",
    "\n",
    "from funs import plotDictionary, chi2_independence, highlightTable"
   ]
  },
  {
   "cell_type": "markdown",
   "metadata": {},
   "source": [
    "# Data Preprocessing"
   ]
  },
  {
   "cell_type": "markdown",
   "metadata": {},
   "source": [
    "## Data Collection"
   ]
  },
  {
   "cell_type": "markdown",
   "metadata": {},
   "source": [
    "### Raw Data"
   ]
  },
  {
   "cell_type": "code",
   "execution_count": 2,
   "metadata": {},
   "outputs": [],
   "source": [
    "all_trxns = pd.read_csv(\"../data/all_trxns.csv\", dtype={\"counterparty\": str})"
   ]
  },
  {
   "cell_type": "markdown",
   "metadata": {},
   "source": [
    "### Exchange Rates\n",
    "more info in `Currencies.ipynb`\n"
   ]
  },
  {
   "cell_type": "code",
   "execution_count": 3,
   "metadata": {},
   "outputs": [],
   "source": [
    "currency_rates = pd.read_csv(\n",
    "    \"../data/exchange_rates.csv\", header=None, names=[\"ccy\", \"date\", \"rate\"]\n",
    ")"
   ]
  },
  {
   "cell_type": "markdown",
   "metadata": {},
   "source": [
    "## Cleaning and Transformation\n",
    "Get as many factors as possible\n",
    "Transform the variables and provide additional features\n",
    "1. Convert the timestamp to datetime\n",
    "2. Add the date and the exchange rate\n",
    "3. Clean and convert the amount to EUR\n",
    "4. Extract the customer type from the customer id\n",
    "5. Extract the weekday, month, quarter and hour from the timestamp\n",
    "6. Replace missing values in the \"counterparty_country\" column with \"unknown\"\n",
    "7. Add \"amount_eur\" buckets - calculate the thresholds for the equally sized buckets of the amount in EUR"
   ]
  },
  {
   "cell_type": "code",
   "execution_count": 4,
   "metadata": {},
   "outputs": [
    {
     "name": "stderr",
     "output_type": "stream",
     "text": [
      "C:\\Users\\mateu\\AppData\\Local\\Temp\\ipykernel_15064\\455284875.py:3: UserWarning: The argument 'infer_datetime_format' is deprecated and will be removed in a future version. A strict version of it is now the default, see https://pandas.pydata.org/pdeps/0004-consistent-to-datetime-parsing.html. You can safely remove this argument.\n",
      "  trxns_data[\"timestamp\"] = pd.to_datetime(\n"
     ]
    }
   ],
   "source": [
    "trxns_data = all_trxns.copy()\n",
    "\n",
    "trxns_data[\"timestamp\"] = pd.to_datetime(\n",
    "    trxns_data[\"timestamp\"], infer_datetime_format=True\n",
    ")\n",
    "\n",
    "trxns_data[\"date\"] = trxns_data[\"timestamp\"].dt.date\n",
    "trxns_data = trxns_data.merge(currency_rates, on=[\"ccy\", \"date\"], how=\"left\")\n",
    "trxns_data[\"rate\"] = np.where(trxns_data[\"rate\"].isna(), 1, trxns_data[\"rate\"])\n",
    "\n",
    "trxns_data[\"amount\"] = trxns_data[\"amount\"].apply(\n",
    "    lambda x: float(re.sub(\"[^0-9.]\", \"\", x))\n",
    ")\n",
    "trxns_data[\"amount_eur\"] = trxns_data[\"amount\"] / trxns_data[\"rate\"]\n",
    "\n",
    "trxns_data[\"customer_type\"] = trxns_data[\"customer\"].str[0]\n",
    "\n",
    "trxns_data[\"weekday\"] = trxns_data[\"date\"].apply(lambda x: x.strftime(\"%A\"))\n",
    "trxns_data[\"month\"] = trxns_data[\"date\"].apply(lambda x: x.strftime(\"%B\"))\n",
    "trxns_data[\"quarter\"] = trxns_data[\"date\"].apply(\n",
    "    lambda x: \"Q\" + str((x.month - 1) // 3 + 1)\n",
    ")\n",
    "trxns_data[\"hour\"] = trxns_data[\"timestamp\"].dt.hour\n",
    "#\n",
    "trxns_data[\"counterparty_country\"] = np.where(\n",
    "    trxns_data[\"counterparty_country\"].isna(),\n",
    "    \"unknown\",\n",
    "    trxns_data[\"counterparty_country\"],\n",
    ")\n",
    "\n",
    "amount_eur_quantile = np.quantile(trxns_data[\"amount_eur\"], q=np.arange(0, 1.2, 0.2))\n",
    "\n",
    "trxns_data[\"amount_eur_bucket\"] = pd.cut(\n",
    "    trxns_data[\"amount_eur\"], bins=amount_eur_quantile, include_lowest=True\n",
    ")"
   ]
  },
  {
   "cell_type": "code",
   "execution_count": 5,
   "metadata": {},
   "outputs": [
    {
     "name": "stdout",
     "output_type": "stream",
     "text": [
      "             customer customer_country fraud_flag           timestamp  \\\n",
      "0     C12976926337644               UK          N 2021-03-20 05:59:25   \n",
      "1     C12976926337644               UK          N 2021-05-02 03:00:38   \n",
      "2     C12976926337644               UK          N 2021-05-23 22:15:15   \n",
      "3     C12976926337644               UK          N 2021-07-07 21:36:50   \n",
      "4     C12976926337644               UK          N 2021-09-02 00:14:03   \n",
      "...               ...              ...        ...                 ...   \n",
      "5297  R85394663171656               UK          N 2021-12-20 00:34:56   \n",
      "5298  R85394663171656               UK          N 2021-12-23 17:49:44   \n",
      "5299  R85394663171656               UK          N 2021-01-18 15:14:34   \n",
      "5300  R85394663171656               UK          N 2021-04-03 00:13:03   \n",
      "5301  R85394663171656               UK          N 2021-09-03 18:32:38   \n",
      "\n",
      "        counterparty counterparty_country      type  ccy     amount  \\\n",
      "0     77697395249488                   CN     OTHER  JPY   48625.25   \n",
      "1     77697395249488                   CN   PAYMENT  GBP   20637.21   \n",
      "2     77697395249488              unknown   PAYMENT  USD   56691.27   \n",
      "3     77697395249488              unknown   PAYMENT  CNY  343864.71   \n",
      "4     77697395249488              unknown   PAYMENT  USD   57247.35   \n",
      "...              ...                  ...       ...  ...        ...   \n",
      "5297  88635938895767                   UK  INTEREST  GBP   25774.25   \n",
      "5298  88635938895767                   UK  INTEREST  GBP   25660.33   \n",
      "5299  88635938895767                   UK     OTHER  GBP   32242.92   \n",
      "5300  88635938895767                   UK     OTHER  GBP   32139.62   \n",
      "5301  88635938895767              unknown     OTHER  CNY   17784.71   \n",
      "\n",
      "            date  rate  amount_eur customer_type    weekday      month  \\\n",
      "0     2021-03-20   1.0    48625.25             C   Saturday      March   \n",
      "1     2021-05-02   1.0    20637.21             C     Sunday        May   \n",
      "2     2021-05-23   1.0    56691.27             C     Sunday        May   \n",
      "3     2021-07-07   1.0   343864.71             C  Wednesday       July   \n",
      "4     2021-09-02   1.0    57247.35             C   Thursday  September   \n",
      "...          ...   ...         ...           ...        ...        ...   \n",
      "5297  2021-12-20   1.0    25774.25             R     Monday   December   \n",
      "5298  2021-12-23   1.0    25660.33             R   Thursday   December   \n",
      "5299  2021-01-18   1.0    32242.92             R     Monday    January   \n",
      "5300  2021-04-03   1.0    32139.62             R   Saturday      April   \n",
      "5301  2021-09-03   1.0    17784.71             R     Friday  September   \n",
      "\n",
      "     quarter  hour         amount_eur_bucket  \n",
      "0         Q1     5     (43377.466, 62376.65]  \n",
      "1         Q2     3       (99.109, 22837.588]  \n",
      "2         Q2    22     (43377.466, 62376.65]  \n",
      "3         Q3    21  (195847.12, 12772515.05]  \n",
      "4         Q3     0     (43377.466, 62376.65]  \n",
      "...      ...   ...                       ...  \n",
      "5297      Q4     0    (22837.588, 43377.466]  \n",
      "5298      Q4    17    (22837.588, 43377.466]  \n",
      "5299      Q1    15    (22837.588, 43377.466]  \n",
      "5300      Q2     0    (22837.588, 43377.466]  \n",
      "5301      Q3    18       (99.109, 22837.588]  \n",
      "\n",
      "[5302 rows x 18 columns]\n"
     ]
    }
   ],
   "source": [
    "print(trxns_data)"
   ]
  },
  {
   "cell_type": "markdown",
   "metadata": {},
   "source": [
    "# Data Analysis"
   ]
  },
  {
   "cell_type": "markdown",
   "metadata": {},
   "source": [
    "## Number of Frauds\n",
    "1. Prepare plot data\n",
    "2. Plot the data\n",
    "3. Add the percentage on top of the bars"
   ]
  },
  {
   "cell_type": "code",
   "execution_count": 7,
   "metadata": {},
   "outputs": [
    {
     "name": "stderr",
     "output_type": "stream",
     "text": [
      "C:\\Users\\mateu\\AppData\\Local\\Temp\\ipykernel_15064\\31235224.py:2: SettingWithCopyWarning: \n",
      "A value is trying to be set on a copy of a slice from a DataFrame.\n",
      "Try using .loc[row_indexer,col_indexer] = value instead\n",
      "\n",
      "See the caveats in the documentation: https://pandas.pydata.org/pandas-docs/stable/user_guide/indexing.html#returning-a-view-versus-a-copy\n",
      "  plot_data[\"count\"] = 1\n"
     ]
    },
    {
     "data": {
      "image/png": "[encoded data removed]",
      "text/plain": [
       "<Figure size 640x480 with 1 Axes>"
      ]
     },
     "metadata": {},
     "output_type": "display_data"
    }
   ],
   "source": [
    "plot_data = trxns_data[[\"fraud_flag\"]]\n",
    "plot_data[\"count\"] = 1\n",
    "summary = plot_data.groupby(\"fraud_flag\").count()\n",
    "summary[\"perc\"] = summary[\"count\"] / summary[\"count\"].sum()\n",
    "\n",
    "fig, ax = plt.subplots()\n",
    "bars = ax.bar(summary.index, summary[\"count\"], color=\"#968B89\")\n",
    "ax.set_title(\"Fraud Flag count\")\n",
    "ax.set_xlabel(\"\")\n",
    "ax.set_ylabel(\"Count\")\n",
    "ax.set_ylim(top=summary[\"count\"].max() * 1.2)\n",
    "\n",
    "for i, bar in enumerate(bars):\n",
    "    height = bar.get_height()\n",
    "    ax.text(\n",
    "        bar.get_x() + bar.get_width() / 2,\n",
    "        height * 1.01,\n",
    "        f'{summary[\"perc\"][i]:.1%}',\n",
    "        ha=\"center\",\n",
    "        va=\"bottom\",\n",
    "    )\n",
    "\n",
    "plt.show()"
   ]
  },
  {
   "cell_type": "markdown",
   "metadata": {},
   "source": [
    "In total there is 1.7% probability of a transaction being a fraud.\n",
    "Next step: identify the variable that is associated with the fraud flag or to find a factor within a variable that is associated with the fraud flag."
   ]
  },
  {
   "cell_type": "markdown",
   "metadata": {},
   "source": [
    "## Which variables could be associated with the fraud flag?"
   ]
  },
  {
   "cell_type": "code",
   "execution_count": 12,
   "metadata": {},
   "outputs": [
    {
     "data": {
      "text/plain": [
       "Index(['customer', 'customer_country', 'fraud_flag', 'timestamp',\n",
       "       'counterparty', 'counterparty_country', 'type', 'ccy', 'amount', 'date',\n",
       "       'rate', 'amount_eur', 'customer_type', 'weekday', 'month', 'quarter',\n",
       "       'hour', 'amount_eur_bucket'],\n",
       "      dtype='object')"
      ]
     },
     "execution_count": 12,
     "metadata": {},
     "output_type": "execute_result"
    }
   ],
   "source": [
    "trxns_data.columns"
   ]
  },
  {
   "cell_type": "markdown",
   "metadata": {},
   "source": [
    "### Chi-squared test"
   ]
  },
  {
   "cell_type": "code",
   "execution_count": 9,
   "metadata": {},
   "outputs": [
    {
     "name": "stdout",
     "output_type": "stream",
     "text": [
      "Chi-square statistic:  34.60357961327357\n",
      "p-value:  1.477323485789682e-07\n",
      "Degrees of freedom:  3\n",
      "Expected frequencies: \n",
      "customer_type            C           K            P            R\n",
      "fraud_flag                                                      \n",
      "N              1020.184459  941.557525  1838.887401  1410.370615\n",
      "Y                17.815541   16.442475    32.112599    24.629385\n"
     ]
    }
   ],
   "source": [
    "chi2_independence(trxns_data, \"customer_type\", \"fraud_flag\", type=\"description\")"
   ]
  },
  {
   "cell_type": "code",
   "execution_count": 13,
   "metadata": {},
   "outputs": [
    {
     "name": "stdout",
     "output_type": "stream",
     "text": [
      "Chi-square statistic:  19.912363031535953\n",
      "p-value:  0.0005196901981085664\n",
      "Degrees of freedom:  4\n",
      "Expected frequencies: \n",
      "amount_eur_bucket  (99.109, 22837.588]  (22837.588, 43377.466]  \\\n",
      "fraud_flag                                                       \n",
      "N                          1042.789702             1041.806865   \n",
      "Y                            18.210298               18.193135   \n",
      "\n",
      "amount_eur_bucket  (43377.466, 62376.65]  (62376.65, 195847.12]  \\\n",
      "fraud_flag                                                        \n",
      "N                            1041.806865            1041.806865   \n",
      "Y                              18.193135              18.193135   \n",
      "\n",
      "amount_eur_bucket  (195847.12, 12772515.05]  \n",
      "fraud_flag                                   \n",
      "N                               1042.789702  \n",
      "Y                                 18.210298  \n"
     ]
    }
   ],
   "source": [
    "chi2_independence(trxns_data, \"amount_eur_bucket\", \"fraud_flag\", type=\"description\")"
   ]
  },
  {
   "cell_type": "code",
   "execution_count": 15,
   "metadata": {},
   "outputs": [
    {
     "name": "stdout",
     "output_type": "stream",
     "text": [
      "Chi-square statistic:  23.410052876653104\n",
      "p-value:  0.0006701545324934873\n",
      "Degrees of freedom:  6\n",
      "Expected frequencies: \n",
      "weekday         Friday      Monday    Saturday      Sunday    Thursday  \\\n",
      "fraud_flag                                                               \n",
      "N           720.419276  763.664089  746.955866  753.835722  749.904376   \n",
      "Y            12.580724   13.335911   13.044134   13.164278   13.095624   \n",
      "\n",
      "weekday        Tuesday   Wednesday  \n",
      "fraud_flag                          \n",
      "N           796.097699  680.122972  \n",
      "Y            13.902301   11.877028  \n"
     ]
    }
   ],
   "source": [
    "chi2_independence(trxns_data, \"weekday\", \"fraud_flag\", type=\"description\")"
   ]
  },
  {
   "cell_type": "markdown",
   "metadata": {},
   "source": [
    "### Significant Difference Tables\n",
    "values with the * are the ones that have values significantly different than expected"
   ]
  },
  {
   "cell_type": "code",
   "execution_count": 14,
   "metadata": {},
   "outputs": [
    {
     "data": {
      "text/html": [
       "<div>\n",
       "<style scoped>\n",
       "    .dataframe tbody tr th:only-of-type {\n",
       "        vertical-align: middle;\n",
       "    }\n",
       "\n",
       "    .dataframe tbody tr th {\n",
       "        vertical-align: top;\n",
       "    }\n",
       "\n",
       "    .dataframe thead th {\n",
       "        text-align: right;\n",
       "    }\n",
       "</style>\n",
       "<table border=\"1\" class=\"dataframe\">\n",
       "  <thead>\n",
       "    <tr style=\"text-align: right;\">\n",
       "      <th>ccy</th>\n",
       "      <th>BRL</th>\n",
       "      <th>CNY</th>\n",
       "      <th>EUR</th>\n",
       "      <th>GBP</th>\n",
       "      <th>HKD</th>\n",
       "      <th>INR</th>\n",
       "      <th>JPY</th>\n",
       "      <th>SGD</th>\n",
       "      <th>USD</th>\n",
       "    </tr>\n",
       "    <tr>\n",
       "      <th>fraud_flag</th>\n",
       "      <th></th>\n",
       "      <th></th>\n",
       "      <th></th>\n",
       "      <th></th>\n",
       "      <th></th>\n",
       "      <th></th>\n",
       "      <th></th>\n",
       "      <th></th>\n",
       "      <th></th>\n",
       "    </tr>\n",
       "  </thead>\n",
       "  <tbody>\n",
       "    <tr>\n",
       "      <th>N</th>\n",
       "      <td>312</td>\n",
       "      <td>367</td>\n",
       "      <td>585</td>\n",
       "      <td>1176</td>\n",
       "      <td>324</td>\n",
       "      <td>242</td>\n",
       "      <td>372</td>\n",
       "      <td>815</td>\n",
       "      <td>1018</td>\n",
       "    </tr>\n",
       "    <tr>\n",
       "      <th>Y</th>\n",
       "      <td>6</td>\n",
       "      <td>22*</td>\n",
       "      <td>5</td>\n",
       "      <td>15</td>\n",
       "      <td>1</td>\n",
       "      <td>5</td>\n",
       "      <td>6</td>\n",
       "      <td>15</td>\n",
       "      <td>16</td>\n",
       "    </tr>\n",
       "  </tbody>\n",
       "</table>\n",
       "</div>"
      ],
      "text/plain": [
       "ccy         BRL  CNY  EUR   GBP  HKD  INR  JPY  SGD   USD\n",
       "fraud_flag                                               \n",
       "N           312  367  585  1176  324  242  372  815  1018\n",
       "Y             6  22*    5    15    1    5    6   15    16"
      ]
     },
     "execution_count": 14,
     "metadata": {},
     "output_type": "execute_result"
    }
   ],
   "source": [
    "highlightTable(trxns_data, \"ccy\", \"fraud_flag\")"
   ]
  },
  {
   "cell_type": "code",
   "execution_count": 16,
   "metadata": {},
   "outputs": [
    {
     "data": {
      "text/html": [
       "<div>\n",
       "<style scoped>\n",
       "    .dataframe tbody tr th:only-of-type {\n",
       "        vertical-align: middle;\n",
       "    }\n",
       "\n",
       "    .dataframe tbody tr th {\n",
       "        vertical-align: top;\n",
       "    }\n",
       "\n",
       "    .dataframe thead th {\n",
       "        text-align: right;\n",
       "    }\n",
       "</style>\n",
       "<table border=\"1\" class=\"dataframe\">\n",
       "  <thead>\n",
       "    <tr style=\"text-align: right;\">\n",
       "      <th>hour</th>\n",
       "      <th>0</th>\n",
       "      <th>1</th>\n",
       "      <th>2</th>\n",
       "      <th>3</th>\n",
       "      <th>4</th>\n",
       "      <th>5</th>\n",
       "      <th>6</th>\n",
       "      <th>7</th>\n",
       "      <th>8</th>\n",
       "      <th>9</th>\n",
       "      <th>...</th>\n",
       "      <th>14</th>\n",
       "      <th>15</th>\n",
       "      <th>16</th>\n",
       "      <th>17</th>\n",
       "      <th>18</th>\n",
       "      <th>19</th>\n",
       "      <th>20</th>\n",
       "      <th>21</th>\n",
       "      <th>22</th>\n",
       "      <th>23</th>\n",
       "    </tr>\n",
       "    <tr>\n",
       "      <th>fraud_flag</th>\n",
       "      <th></th>\n",
       "      <th></th>\n",
       "      <th></th>\n",
       "      <th></th>\n",
       "      <th></th>\n",
       "      <th></th>\n",
       "      <th></th>\n",
       "      <th></th>\n",
       "      <th></th>\n",
       "      <th></th>\n",
       "      <th></th>\n",
       "      <th></th>\n",
       "      <th></th>\n",
       "      <th></th>\n",
       "      <th></th>\n",
       "      <th></th>\n",
       "      <th></th>\n",
       "      <th></th>\n",
       "      <th></th>\n",
       "      <th></th>\n",
       "      <th></th>\n",
       "    </tr>\n",
       "  </thead>\n",
       "  <tbody>\n",
       "    <tr>\n",
       "      <th>N</th>\n",
       "      <td>274</td>\n",
       "      <td>246</td>\n",
       "      <td>217</td>\n",
       "      <td>191</td>\n",
       "      <td>208</td>\n",
       "      <td>164</td>\n",
       "      <td>166</td>\n",
       "      <td>193</td>\n",
       "      <td>181</td>\n",
       "      <td>160</td>\n",
       "      <td>...</td>\n",
       "      <td>171</td>\n",
       "      <td>235</td>\n",
       "      <td>242</td>\n",
       "      <td>281</td>\n",
       "      <td>279</td>\n",
       "      <td>277</td>\n",
       "      <td>264</td>\n",
       "      <td>275</td>\n",
       "      <td>279</td>\n",
       "      <td>282</td>\n",
       "    </tr>\n",
       "    <tr>\n",
       "      <th>Y</th>\n",
       "      <td>2</td>\n",
       "      <td>4</td>\n",
       "      <td>5</td>\n",
       "      <td>9*</td>\n",
       "      <td>1</td>\n",
       "      <td>6</td>\n",
       "      <td>2</td>\n",
       "      <td>1</td>\n",
       "      <td>3</td>\n",
       "      <td>6</td>\n",
       "      <td>...</td>\n",
       "      <td>1</td>\n",
       "      <td>3</td>\n",
       "      <td>5</td>\n",
       "      <td>5</td>\n",
       "      <td>3</td>\n",
       "      <td>2</td>\n",
       "      <td>6</td>\n",
       "      <td>2</td>\n",
       "      <td>2</td>\n",
       "      <td>2</td>\n",
       "    </tr>\n",
       "  </tbody>\n",
       "</table>\n",
       "<p>2 rows × 24 columns</p>\n",
       "</div>"
      ],
      "text/plain": [
       "hour         0    1    2    3    4    5    6    7    8    9   ...   14   15   \n",
       "fraud_flag                                                    ...             \n",
       "N           274  246  217  191  208  164  166  193  181  160  ...  171  235  \\\n",
       "Y             2    4    5   9*    1    6    2    1    3    6  ...    1    3   \n",
       "\n",
       "hour         16   17   18   19   20   21   22   23  \n",
       "fraud_flag                                          \n",
       "N           242  281  279  277  264  275  279  282  \n",
       "Y             5    5    3    2    6    2    2    2  \n",
       "\n",
       "[2 rows x 24 columns]"
      ]
     },
     "execution_count": 16,
     "metadata": {},
     "output_type": "execute_result"
    }
   ],
   "source": [
    "highlightTable(trxns_data, \"hour\", \"fraud_flag\")"
   ]
  },
  {
   "cell_type": "code",
   "execution_count": 17,
   "metadata": {
    "scrolled": true
   },
   "outputs": [
    {
     "data": {
      "text/html": [
       "<div>\n",
       "<style scoped>\n",
       "    .dataframe tbody tr th:only-of-type {\n",
       "        vertical-align: middle;\n",
       "    }\n",
       "\n",
       "    .dataframe tbody tr th {\n",
       "        vertical-align: top;\n",
       "    }\n",
       "\n",
       "    .dataframe thead th {\n",
       "        text-align: right;\n",
       "    }\n",
       "</style>\n",
       "<table border=\"1\" class=\"dataframe\">\n",
       "  <thead>\n",
       "    <tr style=\"text-align: right;\">\n",
       "      <th>amount_eur_bucket</th>\n",
       "      <th>(99.109, 22837.588]</th>\n",
       "      <th>(22837.588, 43377.466]</th>\n",
       "      <th>(43377.466, 62376.65]</th>\n",
       "      <th>(62376.65, 195847.12]</th>\n",
       "      <th>(195847.12, 12772515.05]</th>\n",
       "    </tr>\n",
       "    <tr>\n",
       "      <th>fraud_flag</th>\n",
       "      <th></th>\n",
       "      <th></th>\n",
       "      <th></th>\n",
       "      <th></th>\n",
       "      <th></th>\n",
       "    </tr>\n",
       "  </thead>\n",
       "  <tbody>\n",
       "    <tr>\n",
       "      <th>N</th>\n",
       "      <td>1034</td>\n",
       "      <td>1047</td>\n",
       "      <td>1055</td>\n",
       "      <td>1041</td>\n",
       "      <td>1034</td>\n",
       "    </tr>\n",
       "    <tr>\n",
       "      <th>Y</th>\n",
       "      <td>27*</td>\n",
       "      <td>13</td>\n",
       "      <td>5*</td>\n",
       "      <td>19</td>\n",
       "      <td>27*</td>\n",
       "    </tr>\n",
       "  </tbody>\n",
       "</table>\n",
       "</div>"
      ],
      "text/plain": [
       "amount_eur_bucket (99.109, 22837.588] (22837.588, 43377.466]   \n",
       "fraud_flag                                                     \n",
       "N                                1034                   1047  \\\n",
       "Y                                 27*                     13   \n",
       "\n",
       "amount_eur_bucket (43377.466, 62376.65] (62376.65, 195847.12]   \n",
       "fraud_flag                                                      \n",
       "N                                  1055                  1041  \\\n",
       "Y                                    5*                    19   \n",
       "\n",
       "amount_eur_bucket (195847.12, 12772515.05]  \n",
       "fraud_flag                                  \n",
       "N                                     1034  \n",
       "Y                                      27*  "
      ]
     },
     "execution_count": 17,
     "metadata": {},
     "output_type": "execute_result"
    }
   ],
   "source": [
    "highlightTable(trxns_data, \"amount_eur_bucket\", \"fraud_flag\")"
   ]
  },
  {
   "cell_type": "markdown",
   "metadata": {},
   "source": [
    "There are a lot of factors within the variables that could be used to identify the fraud flag because the values are significantly different than expected."
   ]
  },
  {
   "cell_type": "markdown",
   "metadata": {},
   "source": [
    "### Plots\n",
    "\n",
    "- black dashed line is the mean value \n",
    "- red dashed lines are the values of mean plus 1.5 and 2 standard deviations \n",
    "- red solid line is the value of quantile (by default 0.9) plus standard deviation"
   ]
  },
  {
   "cell_type": "code",
   "execution_count": 13,
   "metadata": {},
   "outputs": [
    {
     "data": {
      "image/png": "[encoded data removed]",
      "text/plain": [
       "<Figure size 750x500 with 1 Axes>"
      ]
     },
     "metadata": {},
     "output_type": "display_data"
    }
   ],
   "source": [
    "plotDictionary(trxns_data, colname=\"ccy\", quantile_threshold=0.9, count_filter=5)"
   ]
  },
  {
   "cell_type": "code",
   "execution_count": 20,
   "metadata": {},
   "outputs": [
    {
     "data": {
      "image/png": "[encoded data removed]",
      "text/plain": [
       "<Figure size 750x500 with 1 Axes>"
      ]
     },
     "metadata": {},
     "output_type": "display_data"
    }
   ],
   "source": [
    "plotDictionary(trxns_data, colname=\"customer_type\", quantile_threshold=0.9, count_filter=5)"
   ]
  },
  {
   "cell_type": "code",
   "execution_count": 21,
   "metadata": {},
   "outputs": [
    {
     "data": {
      "image/png": "[encoded data removed]",
      "text/plain": [
       "<Figure size 750x500 with 1 Axes>"
      ]
     },
     "metadata": {},
     "output_type": "display_data"
    }
   ],
   "source": [
    "plotDictionary(trxns_data, colname=\"counterparty_country\", quantile_threshold=0.9, count_filter=5)"
   ]
  },
  {
   "cell_type": "code",
   "execution_count": 22,
   "metadata": {
    "scrolled": true
   },
   "outputs": [
    {
     "data": {
      "image/png": "[encoded data removed]",
      "text/plain": [
       "<Figure size 750x500 with 1 Axes>"
      ]
     },
     "metadata": {},
     "output_type": "display_data"
    }
   ],
   "source": [
    "plotDictionary(trxns_data, colname=\"weekday\", quantile_threshold=0.9, count_filter=5)"
   ]
  },
  {
   "cell_type": "markdown",
   "metadata": {},
   "source": [
    "### ANOVA f-test\n",
    "\n",
    "With one-hot encoding get all the factors from the variables as separate variables and analyze their association with the fraud flag.\n",
    "\n",
    "1. Select the features\n",
    "2. Split the data into features (X) and target (y)\n",
    "3. Perform one-hot encoding\n",
    "4. Define the number of top features to select\n",
    "5. Perform univariate feature selection using ANOVA F-value\n",
    "6. Get the scores and p-values of each feature\n",
    "7. Create a DataFrame to store the results\n",
    "8. Filter out the features with pvalue less or equal to 0.01"
   ]
  },
  {
   "cell_type": "code",
   "execution_count": 23,
   "metadata": {},
   "outputs": [
    {
     "name": "stdout",
     "output_type": "stream",
     "text": [
      "                                    feature      score        pvalue\n",
      "21                             type_PAYMENT  73.624405  1.225702e-17\n",
      "25                                  ccy_CNY  38.885269  4.842681e-10\n",
      "9                   counterparty_country_JP  30.765566  3.052713e-08\n",
      "35                          customer_type_P  30.489511  3.516585e-08\n",
      "73                                  hour_13  19.631395  9.580562e-06\n",
      "40                           weekday_Sunday  17.347717  3.162185e-05\n",
      "53                           month_November  13.523695  2.379037e-04\n",
      "86  amount_eur_bucket_(43377.466, 62376.65]  12.190181  4.843339e-04\n",
      "33                          customer_type_C  11.684473  6.349856e-04\n",
      "51                              month_March  10.310940  1.330337e-03\n",
      "63                                   hour_3   9.560922  1.997962e-03\n",
      "18                            type_INTEREST   9.044535  2.647180e-03\n",
      "16                             type_BILLING   8.011065  4.666738e-03\n",
      "17                            type_DIVIDEND   7.751907  5.384616e-03\n",
      "36                          customer_type_R   7.668514  5.638818e-03\n",
      "4                   counterparty_country_CN   7.614870  5.808778e-03\n"
     ]
    }
   ],
   "source": [
    "feature_names = [\n",
    "    \"customer_country\",\n",
    "    \"counterparty_country\",\n",
    "    \"type\",\n",
    "    \"ccy\",\n",
    "    \"customer_type\",\n",
    "    \"weekday\",\n",
    "    \"month\",\n",
    "    \"quarter\",\n",
    "    \"hour\",\n",
    "    \"amount_eur_bucket\",\n",
    "]\n",
    "\n",
    "X = trxns_data[feature_names]\n",
    "y = trxns_data[\"fraud_flag\"]\n",
    "\n",
    "X_encoded = pd.get_dummies(X, columns=feature_names)\n",
    "\n",
    "k = 50\n",
    "\n",
    "selector = SelectKBest(f_classif, k=k)\n",
    "selector.fit(X_encoded, y)\n",
    "\n",
    "scores = selector.scores_\n",
    "pvalues = selector.pvalues_\n",
    "\n",
    "results_df = pd.DataFrame(\n",
    "    {\"feature\": X_encoded.columns, \"score\": scores, \"pvalue\": pvalues}\n",
    ")\n",
    "results_df = results_df.sort_values(by=\"score\", ascending=False)\n",
    "\n",
    "results_df = results_df[results_df[\"pvalue\"] <= 0.01]\n",
    "print(results_df.head(k))"
   ]
  }
 ],
 "metadata": {
  "kernelspec": {
   "display_name": "Python 3 (ipykernel)",
   "language": "python",
   "name": "python3"
  },
  "language_info": {
   "codemirror_mode": {
    "name": "ipython",
    "version": 3
   },
   "file_extension": ".py",
   "mimetype": "text/x-python",
   "name": "python",
   "nbconvert_exporter": "python",
   "pygments_lexer": "ipython3",
   "version": "3.11.6"
  },
  "vscode": {
   "interpreter": {
    "hash": "ea691c577c8a5ba935f4d99bbd5c939a093ed1ee2cfc6fd5842a5972ac98f129"
   }
  }
 },
 "nbformat": 4,
 "nbformat_minor": 2
}
